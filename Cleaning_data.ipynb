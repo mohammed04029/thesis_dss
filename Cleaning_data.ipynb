{
 "cells": [
  {
   "cell_type": "code",
   "execution_count": 390,
   "id": "619dc45d-4dea-414d-adb3-04dac19e4d0b",
   "metadata": {},
   "outputs": [],
   "source": [
    "import pandas as pd\n",
    "\n",
    "df = pd.read_csv(\"C:/Users/Mohammed/Downloads/Combined_Funda_data.csv\")"
   ]
  },
  {
   "cell_type": "code",
   "execution_count": 392,
   "id": "25d6bc8c-1e31-4ffe-9d6c-78dfbcd1827a",
   "metadata": {},
   "outputs": [],
   "source": [
    "df = df.drop(columns=[\"Aangeboden sinds\", \"Vraagprijs per m²\", \"Status\", \"Gelegen op\",\n",
    "                     \"Zijtuin\", \"Bouwperiode\", \"Looptijd\", \"Toegankelijkheid\", \"Keurmerken\",\n",
    "                     \"Specifiek\", \"Oppervlakte\"])"
   ]
  },
  {
   "cell_type": "code",
   "execution_count": 396,
   "id": "2cd71a3a-3442-44c7-ba27-abba2fea4ae3",
   "metadata": {},
   "outputs": [
    {
     "name": "stdout",
     "output_type": "stream",
     "text": [
      "0     485000\n",
      "1     375000\n",
      "2     279500\n",
      "3    2330000\n",
      "4    2270000\n",
      "Name: Laatste vraagprijs, dtype: int32\n"
     ]
    }
   ],
   "source": [
    "# Clean the \"Laatste vraagprijs\" column to handle complex values like \"€ 2.330.000 vrij op naam\"\n",
    "df['Laatste vraagprijs'] = (\n",
    "    df['Laatste vraagprijs']\n",
    "    .str.replace('€', '', regex=False)  # Remove the euro symbol\n",
    "    .str.replace('vrij op naam', '', case=False, regex=False)  # Remove text like 'vrij op naam'\n",
    "    .str.replace(r'[^\\d.,]', '', regex=True)  # Keep only digits, commas, and dots\n",
    "    .str.replace(',', '')  # Remove commas\n",
    "    .str.replace('.', '', regex=False)  # Remove dots\n",
    "    .str.strip()  # Remove leading/trailing whitespace\n",
    ")\n",
    "\n",
    "# Convert valid entries to float, filling invalid ones with NaN\n",
    "df['Laatste vraagprijs'] = pd.to_numeric(df['Laatste vraagprijs'], errors='coerce')\n",
    "\n",
    "# Fill missing values (NaN) with the mean of the column\n",
    "df['Laatste vraagprijs'] = df['Laatste vraagprijs'].fillna(df['Laatste vraagprijs'].mean())\n",
    "\n",
    "# Convert the column to integer\n",
    "df['Laatste vraagprijs'] = df['Laatste vraagprijs'].astype(int)\n",
    "\n",
    "# Verify the transformation\n",
    "print(df['Laatste vraagprijs'].head())"
   ]
  },
  {
   "cell_type": "code",
   "execution_count": 398,
   "id": "448a68ea-ab2c-4db5-b30f-9cb0800a49de",
   "metadata": {},
   "outputs": [],
   "source": [
    "# Convert the \"Verkoopdatum\" column to datetime, with errors as NaT\n",
    "df['Verkoopdatum'] = pd.to_datetime(df['Verkoopdatum'], format='%d %B %Y', errors='coerce')\n",
    "\n",
    "# Fill invalid or missing dates with a default value (optional)\n",
    "default_date = pd.Timestamp('2023-01-01')  # Replace with a meaningful default\n",
    "df['Verkoopdatum'] = df['Verkoopdatum'].fillna(default_date)\n",
    "\n",
    "# Extract year and month as integers\n",
    "df['year'] = df['Verkoopdatum'].dt.year.astype(int)\n",
    "df['month'] = df['Verkoopdatum'].dt.month.astype(int)\n",
    "\n",
    "df = df.drop(columns=[\"Verkoopdatum\"])"
   ]
  },
  {
   "cell_type": "code",
   "execution_count": 400,
   "id": "f02e833c-3be3-4583-9bec-88d37a3a0919",
   "metadata": {},
   "outputs": [
    {
     "name": "stdout",
     "output_type": "stream",
     "text": [
      "   Gebouwgebonden buitenruimte  Externe bergruimte\n",
      "0                            0                   0\n",
      "1                            0                   5\n",
      "2                            0                   0\n",
      "3                            0                   0\n",
      "4                            0                   0\n"
     ]
    }
   ],
   "source": [
    "# List of features to clean and process\n",
    "features_to_clean = [\"Gebouwgebonden buitenruimte\", \"Externe bergruimte\"]\n",
    "\n",
    "# Function to clean and convert the columns\n",
    "def clean_numeric_features(df, columns):\n",
    "    for column in columns:\n",
    "        # Extract numbers from the column\n",
    "        df[column] = df[column].str.extract(r'(\\d+)')[0].astype(float)\n",
    "        # Fill missing values with 0 and convert to integer\n",
    "        df[column] = df[column].fillna(0).astype(int)\n",
    "\n",
    "# Apply the cleaning function to the specified features\n",
    "clean_numeric_features(df, features_to_clean)\n",
    "\n",
    "# Verify the transformation\n",
    "print(df[features_to_clean].head())"
   ]
  },
  {
   "cell_type": "code",
   "execution_count": 402,
   "id": "958c788d-cf84-4d64-a524-ecc85e436b57",
   "metadata": {},
   "outputs": [
    {
     "name": "stdout",
     "output_type": "stream",
     "text": [
      "   Badkamervoorzieningen  Soort appartement  Soort dak  Balkon/dakterras  \\\n",
      "0              -0.000760           0.001502   0.007291          0.000933   \n",
      "1              -0.003436           0.001502   0.007291          0.000933   \n",
      "2              -0.000760           0.001502   0.004810          0.000933   \n",
      "3              -0.002056           0.001502  -0.001625          0.000933   \n",
      "4              -0.002056           0.001502  -0.001625          0.000933   \n",
      "\n",
      "   Schuur/berging  Soort woonhuis  Cv-ketel  Voorzieningen  Isolatie  \\\n",
      "0        0.003296        0.010706  0.016203       0.022643  0.004854   \n",
      "1        0.004892        0.009588  0.016203       0.024611  0.011622   \n",
      "2        0.003930        0.010900  0.016203       0.022751  0.004854   \n",
      "3       -0.000187        0.016022  0.016203       0.022507  0.004854   \n",
      "4       -0.000187        0.016022  0.016203       0.022507  0.004854   \n",
      "\n",
      "   Verwarming      Tuin  Achtertuin   Ligging  Soort garage  \\\n",
      "0   -0.001241  0.003364    0.032291  0.017186      0.004173   \n",
      "1   -0.001752  0.003249    0.029405  0.014817      0.003496   \n",
      "2   -0.001241  0.002737    0.032799  0.017186      0.004241   \n",
      "3   -0.001932  0.003439    0.031746  0.026187      0.003496   \n",
      "4   -0.001932  0.003439    0.031746  0.026187      0.003496   \n",
      "\n",
      "   Soort parkeergelegenheid  Warm water  \n",
      "0                  0.006446    0.009197  \n",
      "1                  0.005319    0.004928  \n",
      "2                  0.004579    0.009197  \n",
      "3                  0.005319    0.009197  \n",
      "4                  0.005319    0.009197  \n"
     ]
    }
   ],
   "source": [
    "from gensim.models import Word2Vec\n",
    "import numpy as np\n",
    "\n",
    "# List of features to apply Word2Vec and process\n",
    "features_to_process = [\n",
    "    \"Badkamervoorzieningen\",\"Soort appartement\", \"Soort dak\", \"Balkon/dakterras\", \n",
    "    \"Schuur/berging\", \"Soort woonhuis\", \"Cv-ketel\", \"Voorzieningen\", \"Isolatie\", \"Verwarming\",\n",
    "    \"Tuin\", \"Achtertuin\", \"Ligging\", \"Soort garage\", \"Soort parkeergelegenheid\", \"Warm water\"\n",
    "]\n",
    "\n",
    "# Function to preprocess, train Word2Vec, and transform a column\n",
    "def process_feature_with_word2vec(df, column_name):\n",
    "    # Fill missing values with empty strings for Word2Vec processing\n",
    "    df[column_name] = df[column_name].fillna('').astype(str)\n",
    "    \n",
    "    # Preprocess: Tokenize the text by splitting on spaces\n",
    "    df[column_name] = df[column_name].str.lower().str.replace(',', '').str.split()\n",
    "    \n",
    "    # Train Word2Vec model on the column\n",
    "    model = Word2Vec(sentences=df[column_name], vector_size=100, window=5, min_count=1, workers=4)\n",
    "    \n",
    "    # Convert each row to the scalar mean of the word vectors\n",
    "    def get_scalar_mean_vector(tokens, model):\n",
    "        tokens = [token for token in tokens if token in model.wv]\n",
    "        if not tokens:  # If no valid tokens, return NaN\n",
    "            return np.nan\n",
    "        mean_vector = np.mean([model.wv[token] for token in tokens], axis=0)\n",
    "        return np.mean(mean_vector)  # Scalar mean of the vector\n",
    "    \n",
    "    # Apply the function to transform the column\n",
    "    df[column_name] = df[column_name].apply(lambda tokens: get_scalar_mean_vector(tokens, model))\n",
    "    \n",
    "    # Replace missing values with the column mean\n",
    "    df[column_name] = df[column_name].fillna(df[column_name].mean())\n",
    "\n",
    "# Apply the function to each feature in the list\n",
    "for feature in features_to_process:\n",
    "    process_feature_with_word2vec(df, feature)\n",
    "\n",
    "# Verify the transformation\n",
    "print(df[features_to_process].head())"
   ]
  },
  {
   "cell_type": "code",
   "execution_count": 404,
   "id": "2aeda9b5-05ac-4b2a-8401-138e13a22e39",
   "metadata": {},
   "outputs": [],
   "source": [
    "# Clean the \"Overige inpandige ruimte\" column\n",
    "df['Overige inpandige ruimte'] = df['Overige inpandige ruimte'].str.extract(r'(\\d+)')[0].astype(float).fillna(0).astype(int)"
   ]
  },
  {
   "cell_type": "code",
   "execution_count": 406,
   "id": "ced3fd49-4193-47fd-9bba-07d86f2d57c8",
   "metadata": {},
   "outputs": [],
   "source": [
    "import pandas as pd\n",
    "import numpy as np\n",
    "\n",
    "# Define the ordinal encoding for Energielabel\n",
    "energy_label_mapping = {\n",
    "    'G': 1,\n",
    "    'F': 2,\n",
    "    'E': 3,\n",
    "    'D': 4,\n",
    "    'C': 5,\n",
    "    'B': 6,\n",
    "    'A': 7,\n",
    "    'A+': 8,\n",
    "    'A++': 9,\n",
    "    'A+++': 10,\n",
    "    'A++++': 11,\n",
    "    'A+++++': 12\n",
    "}\n",
    "\n",
    "# Step 1: Clean the text by removing unwanted parts like \"Wat betekent dit?\"\n",
    "df['Energielabel'] = df['Energielabel'].str.replace(r'\\s*Wat betekent dit\\?.*', '', regex=True)\n",
    "\n",
    "# Step 2: Map the cleaned data to ordinal values\n",
    "df['Energielabel'] = df['Energielabel'].map(energy_label_mapping)\n",
    "\n",
    "# Step 3: Impute missing values (\"Niet beschikbaar\" and NaN) with the mean of the column\n",
    "mean_value = df['Energielabel'].dropna().mean()  # Calculate mean of available values\n",
    "df['Energielabel'] = df['Energielabel'].fillna(mean_value).astype(int)"
   ]
  },
  {
   "cell_type": "code",
   "execution_count": 408,
   "id": "76c4cc05-af42-4906-a622-c502a468a345",
   "metadata": {},
   "outputs": [
    {
     "data": {
      "text/html": [
       "<div>\n",
       "<style scoped>\n",
       "    .dataframe tbody tr th:only-of-type {\n",
       "        vertical-align: middle;\n",
       "    }\n",
       "\n",
       "    .dataframe tbody tr th {\n",
       "        vertical-align: top;\n",
       "    }\n",
       "\n",
       "    .dataframe thead th {\n",
       "        text-align: right;\n",
       "    }\n",
       "</style>\n",
       "<table border=\"1\" class=\"dataframe\">\n",
       "  <thead>\n",
       "    <tr style=\"text-align: right;\">\n",
       "      <th></th>\n",
       "      <th>Aantal woonlagen</th>\n",
       "    </tr>\n",
       "  </thead>\n",
       "  <tbody>\n",
       "    <tr>\n",
       "      <th>0</th>\n",
       "      <td>7</td>\n",
       "    </tr>\n",
       "    <tr>\n",
       "      <th>1</th>\n",
       "      <td>7</td>\n",
       "    </tr>\n",
       "    <tr>\n",
       "      <th>2</th>\n",
       "      <td>7</td>\n",
       "    </tr>\n",
       "    <tr>\n",
       "      <th>3</th>\n",
       "      <td>8</td>\n",
       "    </tr>\n",
       "    <tr>\n",
       "      <th>4</th>\n",
       "      <td>8</td>\n",
       "    </tr>\n",
       "  </tbody>\n",
       "</table>\n",
       "</div>"
      ],
      "text/plain": [
       "   Aantal woonlagen\n",
       "0                 7\n",
       "1                 7\n",
       "2                 7\n",
       "3                 8\n",
       "4                 8"
      ]
     },
     "execution_count": 408,
     "metadata": {},
     "output_type": "execute_result"
    }
   ],
   "source": [
    "import pandas as pd\n",
    "import re\n",
    "\n",
    "# Define the ordinal mapping for \"Aantal woonlagen\"\n",
    "ordinal_mapping = {\n",
    "    '1 woonlaag': 0,\n",
    "    '1 woonlaag en een zolder': 1,\n",
    "    '1 woonlaag en een zolder met vliering': 2,\n",
    "    '1 woonlaag en een kelder': 3,\n",
    "    '1 woonlaag, een vliering en een kelder': 4,\n",
    "    '1 woonlaag en een vliering': 5,\n",
    "    '1 woonlaag, een zolder en een kelder': 6,\n",
    "    '2 woonlagen en een zolder': 7,\n",
    "    '2 woonlagen, een zolder en een kelder': 8,\n",
    "    '2 woonlagen': 9,\n",
    "    '2 woonlagen en een vliering': 10,\n",
    "    '2 woonlagen, een vliering en een kelder': 11,\n",
    "    '2 woonlagen en een kelder': 12,\n",
    "    '2 woonlagen en een zolder met vliering': 13,\n",
    "    '2 woonlagen, een zolder met vliering en een kelder': 14,\n",
    "    '3 woonlagen': 15,\n",
    "    '3 woonlagen en een vliering': 16,\n",
    "    '3 woonlagen en een zolder': 17,\n",
    "    '3 woonlagen en een kelder': 18,\n",
    "    '3 woonlagen, een vliering en een kelder': 19,\n",
    "    '3 woonlagen, een zolder en een kelder': 20,\n",
    "    '4 woonlagen': 21,\n",
    "    '4 woonlagen en een kelder': 22,\n",
    "    '4 woonlagen, een zolder en een kelder': 23,\n",
    "    '4 woonlagen en een vliering': 24,\n",
    "    '5 woonlagen': 25,\n",
    "    '5 woonlagen en een kelder': 26,\n",
    "    '5 woonlagen en een zolder': 27,\n",
    "    '5 woonlagen, een zolder en een kelder': 28,\n",
    "    '5 woonlagen en een vliering': 29,\n",
    "    '6 woonlagen': 30,\n",
    "    '7 woonlagen': 31,\n",
    "    '8 woonlagen': 32,\n",
    "    '9 woonlagen': 33,\n",
    "    '10 woonlagen': 34,\n",
    "    '11 woonlagen': 35,\n",
    "    '12 woonlagen': 36,\n",
    "    '13 woonlagen': 37,\n",
    "    '14 woonlagen': 38,\n",
    "    '15 woonlagen': 39,\n",
    "    '20 woonlagen': 40,\n",
    "    '23 woonlagen': 41,\n",
    "    '29 woonlagen': 42\n",
    "}\n",
    "\n",
    "# Standardize text formatting in the \"Aantal woonlagen\" column\n",
    "df['Aantal woonlagen'] = df['Aantal woonlagen'].str.strip()\n",
    "\n",
    "# Apply the mapping, treating unmatched values as missing and filling them with -1\n",
    "df['Aantal woonlagen'] = df['Aantal woonlagen'].map(ordinal_mapping).fillna(-1).astype(int)\n",
    "\n",
    "# Display the updated DataFrame\n",
    "df[['Aantal woonlagen']].head()"
   ]
  },
  {
   "cell_type": "code",
   "execution_count": 410,
   "id": "15c9c2d7-199d-4d48-b52a-cf4e6098805d",
   "metadata": {},
   "outputs": [],
   "source": [
    "import pandas as pd\n",
    "\n",
    "# Define the hard-coded ordinal mapping\n",
    "ordinal_mapping = {\n",
    "    '1 apart toilet': 0,\n",
    "    '1 badkamer': 1,\n",
    "    '1 badkamer en 1 apart toilet': 2,\n",
    "    '1 badkamer en 2 aparte toiletten': 3,\n",
    "    '1 badkamer en 3 aparte toiletten': 4,\n",
    "    '2 aparte toiletten': 5,\n",
    "    '2 badkamers': 6,\n",
    "    '2 badkamers en 1 apart toilet': 7,\n",
    "    '2 badkamers en 2 aparte toiletten': 8,\n",
    "    '2 badkamers en 3 aparte toiletten': 9,\n",
    "    '3 badkamers': 10,\n",
    "    '3 badkamers en 1 apart toilet': 11,\n",
    "    '3 badkamers en 2 aparte toiletten': 12,\n",
    "    '3 badkamers en 3 aparte toiletten': 13,\n",
    "    '4 badkamers en 1 apart toilet': 14,\n",
    "    '4 badkamers en 2 aparte toiletten': 15,\n",
    "    '4 badkamers en 3 aparte toiletten': 16,\n",
    "    '5 badkamers en 3 aparte toiletten': 17\n",
    "}\n",
    "\n",
    "# Map the values in the column to the ordinal encoding, and fill missing values with -1 or another value as needed\n",
    "df['Aantal badkamers'] = df['Aantal badkamers'].map(ordinal_mapping).fillna(-1).astype(int)"
   ]
  },
  {
   "cell_type": "code",
   "execution_count": 412,
   "id": "97bf3af8-b20a-41a3-9ded-c50e4289c040",
   "metadata": {},
   "outputs": [],
   "source": [
    "import pandas as pd\n",
    "import numpy as np\n",
    "\n",
    "# Extract the first one or two digits, convert to float, and fill missing values with the mean\n",
    "df['Aantal kamers'] = df['Aantal kamers'].str.extract(r'(\\d{1,2})')[0].astype(float)  # Extract one or two digits and convert to float\n",
    "df['Aantal kamers'] = df['Aantal kamers'].fillna(df['Aantal kamers'].mean()).astype(int)  # Impute missing values with mean and convert to int"
   ]
  },
  {
   "cell_type": "code",
   "execution_count": 414,
   "id": "f72c39bb-0191-498f-b543-ccd1de1c9069",
   "metadata": {},
   "outputs": [],
   "source": [
    "import pandas as pd\n",
    "import numpy as np\n",
    "\n",
    "# Extract numeric part, convert to float, and fill missing values with the mean\n",
    "df['Wonen'] = df['Wonen'].str.extract(r'(\\d+)')[0].astype(float)  # Extract numbers and convert to float\n",
    "df['Wonen'] = df['Wonen'].fillna(df['Wonen'].mean()).astype(int)   # Impute missing values with mean and convert to int"
   ]
  },
  {
   "cell_type": "code",
   "execution_count": 416,
   "id": "69e3888e-c5af-4347-bc11-f21453d19421",
   "metadata": {},
   "outputs": [],
   "source": [
    "import pandas as pd\n",
    "\n",
    "# Map values to binary encoding and fill missing values with 0\n",
    "df['Soort bouw'] = df['Soort bouw'].map({'Bestaande bouw': 0, 'Nieuwbouw': 1}).fillna(0).astype(int)"
   ]
  },
  {
   "cell_type": "code",
   "execution_count": 418,
   "id": "e062b89b-7164-4583-b80c-1e932b404b03",
   "metadata": {},
   "outputs": [],
   "source": [
    "import pandas as pd\n",
    "\n",
    "# Extract numeric part, replace commas with dots, convert to float, fill missing values with 0, and then convert to integer\n",
    "df['Bijdrage VvE'] = df['Bijdrage VvE'].str.extract(r'(\\d+[\\.,]?\\d*)')[0].str.replace(',', '.').astype(float).fillna(0).astype(int)"
   ]
  },
  {
   "cell_type": "code",
   "execution_count": 420,
   "id": "61b0ee23-2fc1-4622-90cf-ee5d8b37da49",
   "metadata": {},
   "outputs": [
    {
     "name": "stdout",
     "output_type": "stream",
     "text": [
      "0    1\n",
      "1    1\n",
      "2    1\n",
      "3    0\n",
      "4    0\n",
      "Name: Ligging tuin, dtype: int32\n"
     ]
    }
   ],
   "source": [
    "# Convert \"Ligging tuin\" to binary: 1 if not missing, 0 if missing\n",
    "df['Ligging tuin'] = df['Ligging tuin'].notna().astype(int)\n",
    "\n",
    "# Verify the transformation\n",
    "print(df['Ligging tuin'].head())"
   ]
  },
  {
   "cell_type": "code",
   "execution_count": 422,
   "id": "f715b30b-4299-40cc-97df-15a7c058d233",
   "metadata": {},
   "outputs": [],
   "source": [
    "# Clean the \"Capaciteit\" column by extracting numbers and converting to integer\n",
    "df['Capaciteit'] = df['Capaciteit'].str.extract(r'(\\d+)')[0].astype(float).fillna(0).astype(int)"
   ]
  },
  {
   "cell_type": "code",
   "execution_count": 424,
   "id": "bda89fb8-b14a-49de-b6e8-7b449391976d",
   "metadata": {},
   "outputs": [],
   "source": [
    "import seaborn as sns\n",
    "import matplotlib.pyplot as plt\n",
    "\n",
    "# Columns of interest and the target column\n",
    "columns_to_process = [\n",
    "    \"Inschrijving KvK\",\n",
    "    \"Jaarlijkse vergadering\",\n",
    "    \"Periodieke bijdrage\",\n",
    "    \"Reservefonds aanwezig\",\n",
    "    \"Onderhoudsplan\",\n",
    "    \"Opstalverzekering\"\n",
    "]\n",
    "\n",
    "# Perform the conversion for all specified columns\n",
    "for col in columns_to_process:\n",
    "    df[col] = df[col].map({\"Ja\": 0, \"Nee\": 1}).fillna(1)\n",
    "\n",
    "def correlate_and_impute(df, col1, col2):\n",
    "    for index, row in df.iterrows():\n",
    "        # Impute col2 if col1 is 0 and col2 is missing\n",
    "        if row[col1] == 0 and pd.isna(row[col2]):\n",
    "            df.at[index, col2] = 0\n",
    "        # Impute col1 if col2 is 0 and col1 is missing\n",
    "        elif row[col2] == 0 and pd.isna(row[col1]):\n",
    "            df.at[index, col1] = 0\n",
    "\n",
    "# Apply to the correlated pairs\n",
    "correlate_and_impute(df, \"Reservefonds aanwezig\", \"Periodieke bijdrage\")\n",
    "correlate_and_impute(df, \"Onderhoudsplan\", \"Periodieke bijdrage\")\n",
    "correlate_and_impute(df, \"Opstalverzekering\", \"Periodieke bijdrage\")"
   ]
  },
  {
   "cell_type": "code",
   "execution_count": 426,
   "id": "6a92ff26-8931-4687-a20d-5e0eb9bb2c01",
   "metadata": {},
   "outputs": [
    {
     "name": "stdout",
     "output_type": "stream",
     "text": [
      "0    625\n",
      "1    415\n",
      "2    365\n",
      "3    921\n",
      "4    921\n",
      "Name: Inhoud, dtype: int32\n"
     ]
    }
   ],
   "source": [
    "# Clean the \"Inhoud\" column to retain only numbers and convert to integer\n",
    "df['Inhoud'] = (\n",
    "    df['Inhoud']\n",
    "    .str.extract(r'(\\d+)')  # Extract the first sequence of digits\n",
    "    [0]  # Extract the first capture group\n",
    "    .astype(float)  # Convert to float to handle missing values\n",
    "    .fillna(0)  # Fill missing values with 0\n",
    "    .astype(int)  # Convert to integer\n",
    ")\n",
    "\n",
    "# Verify the transformation\n",
    "print(df['Inhoud'].head())"
   ]
  },
  {
   "cell_type": "code",
   "execution_count": 428,
   "id": "a1fdc37c-a2dd-4695-af6d-3eaf4419d3b5",
   "metadata": {},
   "outputs": [],
   "source": [
    "# Clean the \"Perceel\" column by extracting numbers\n",
    "df['Perceel'] = df['Perceel'].str.extract(r'(\\d+)')[0].astype(float)\n",
    "\n",
    "# Replace missing values in \"Perceel\" with corresponding values from \"Wonen\"\n",
    "df['Perceel'] = df['Perceel'].fillna(df['Wonen'])\n",
    "\n",
    "# Convert the column to integer data type\n",
    "df['Perceel'] = df['Perceel'].astype(int)"
   ]
  },
  {
   "cell_type": "code",
   "execution_count": 430,
   "id": "a49d3540-e1af-4e32-b743-5a660a4f84e3",
   "metadata": {},
   "outputs": [],
   "source": [
    "# Step 1: Remove all unique values with less than 100 instances in the \"Eigendomssituatie\" column\n",
    "value_counts = df['Eigendomssituatie'].value_counts()\n",
    "to_keep = value_counts[value_counts >= 100].index\n",
    "df['Eigendomssituatie'] = df['Eigendomssituatie'].where(df['Eigendomssituatie'].isin(to_keep), np.nan)\n",
    "\n",
    "# Step 2: Fill missing values with the most frequent value\n",
    "most_frequent_value = df['Eigendomssituatie'].mode()[0]\n",
    "df['Eigendomssituatie'] = df['Eigendomssituatie'].fillna(most_frequent_value)\n",
    "\n",
    "# Step 3: One-hot encode the \"Eigendomssituatie\" column\n",
    "df = pd.get_dummies(df, columns=['Eigendomssituatie'], prefix='Eigendomssituatie')"
   ]
  },
  {
   "cell_type": "code",
   "execution_count": 432,
   "id": "f95f5821-8a9a-43a3-9fdb-265cca713af1",
   "metadata": {},
   "outputs": [],
   "source": [
    "# Convert one hot encoded values to 1's\n",
    "df['Eigendomssituatie_Gemeentelijk eigendom belast met erfpacht'] = df['Eigendomssituatie_Gemeentelijk eigendom belast met erfpacht'].notna().astype(int)"
   ]
  },
  {
   "cell_type": "code",
   "execution_count": 434,
   "id": "da219036-9557-4b3d-b596-5a76ebf738cb",
   "metadata": {},
   "outputs": [],
   "source": [
    "df['Eigendomssituatie_Volle eigendom'] = df['Eigendomssituatie_Volle eigendom'].notna().astype(int)"
   ]
  },
  {
   "cell_type": "code",
   "execution_count": 438,
   "id": "068dcec9-2b35-4812-bba0-98d920e69a09",
   "metadata": {},
   "outputs": [],
   "source": [
    "# Save the DataFrame to a CSV file\n",
    "df.to_csv('processed_dataset.csv', index=False)"
   ]
  },
  {
   "cell_type": "code",
   "execution_count": 436,
   "id": "e6613efa-9637-472c-a944-61e84851823f",
   "metadata": {},
   "outputs": [
    {
     "data": {
      "text/plain": [
       "Laatste vraagprijs                                             0\n",
       "Bijdrage VvE                                                   0\n",
       "Soort appartement                                              0\n",
       "Soort bouw                                                     0\n",
       "Soort dak                                                      0\n",
       "Wonen                                                          0\n",
       "Gebouwgebonden buitenruimte                                    0\n",
       "Externe bergruimte                                             0\n",
       "Inhoud                                                         0\n",
       "Aantal kamers                                                  0\n",
       "Aantal badkamers                                               0\n",
       "Badkamervoorzieningen                                          0\n",
       "Aantal woonlagen                                               0\n",
       "Voorzieningen                                                  0\n",
       "Energielabel                                                   0\n",
       "Isolatie                                                       0\n",
       "Verwarming                                                     0\n",
       "Warm water                                                     0\n",
       "Ligging                                                        0\n",
       "Balkon/dakterras                                               0\n",
       "Schuur/berging                                                 0\n",
       "Soort parkeergelegenheid                                       0\n",
       "Inschrijving KvK                                               0\n",
       "Jaarlijkse vergadering                                         0\n",
       "Periodieke bijdrage                                            0\n",
       "Reservefonds aanwezig                                          0\n",
       "Onderhoudsplan                                                 0\n",
       "Opstalverzekering                                              0\n",
       "Soort woonhuis                                                 0\n",
       "Overige inpandige ruimte                                       0\n",
       "Perceel                                                        0\n",
       "Cv-ketel                                                       0\n",
       "Tuin                                                           0\n",
       "Achtertuin                                                     0\n",
       "Ligging tuin                                                   0\n",
       "Soort garage                                                   0\n",
       "Capaciteit                                                     0\n",
       "year                                                           0\n",
       "month                                                          0\n",
       "Eigendomssituatie_Gemeentelijk eigendom belast met erfpacht    0\n",
       "Eigendomssituatie_Volle eigendom                               0\n",
       "dtype: int64"
      ]
     },
     "execution_count": 436,
     "metadata": {},
     "output_type": "execute_result"
    }
   ],
   "source": [
    "df.isna().sum()"
   ]
  }
 ],
 "metadata": {
  "kernelspec": {
   "display_name": "Python 3 (ipykernel)",
   "language": "python",
   "name": "python3"
  },
  "language_info": {
   "codemirror_mode": {
    "name": "ipython",
    "version": 3
   },
   "file_extension": ".py",
   "mimetype": "text/x-python",
   "name": "python",
   "nbconvert_exporter": "python",
   "pygments_lexer": "ipython3",
   "version": "3.12.7"
  }
 },
 "nbformat": 4,
 "nbformat_minor": 5
}
